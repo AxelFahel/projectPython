{
  "nbformat": 4,
  "nbformat_minor": 0,
  "metadata": {
    "colab": {
      "provenance": []
    },
    "kernelspec": {
      "name": "python3",
      "display_name": "Python 3"
    },
    "language_info": {
      "name": "python"
    }
  },
  "cells": [
    {
      "cell_type": "code",
      "source": [
        "import secrets\n",
        "import string\n",
        "\n",
        "def gerar_senha(comprimento, incluir_digitos=True, incluir_alfabeto=True, incluir_caracteres_especiais=True):\n",
        "    caracteres = \"\"\n",
        "\n",
        "    if incluir_digitos:\n",
        "        caracteres += string.digits\n",
        "    if incluir_alfabeto:\n",
        "        caracteres += string.ascii_letters\n",
        "    if incluir_caracteres_especiais:\n",
        "        caracteres += string.punctuation\n",
        "\n",
        "    if not caracteres:\n",
        "        raise ValueError(\"Selecione pelo menos um conjunto de caracteres para a geração da senha.\")\n",
        "\n",
        "    senha = ''.join(secrets.choice(caracteres) for _ in range(comprimento))\n",
        "    return senha\n",
        "\n",
        "def main():\n",
        "    print(\"Bem-vindo ao Gerador de Senhas!\")\n",
        "\n",
        "    comprimento = int(input(\"Digite o comprimento da senha desejada: \"))\n",
        "\n",
        "    incluir_digitos = input(\"Incluir dígitos? (s/n): \").lower() == 's'\n",
        "    incluir_alfabeto = input(\"Incluir letras? (s/n): \").lower() == 's'\n",
        "    incluir_caracteres_especiais = input(\"Incluir caracteres especiais? (s/n): \").lower() == 's'\n",
        "\n",
        "    senha_gerada = gerar_senha(\n",
        "        comprimento,\n",
        "        incluir_digitos=incluir_digitos,\n",
        "        incluir_alfabeto=incluir_alfabeto,\n",
        "        incluir_caracteres_especiais=incluir_caracteres_especiais\n",
        "    )\n",
        "\n",
        "    print(f\"\\nSenha gerada: {senha_gerada}\")\n",
        "\n",
        "if __name__ == \"__main__\":\n",
        "    main()\n"
      ],
      "metadata": {
        "colab": {
          "base_uri": "https://localhost:8080/"
        },
        "id": "TVi3P6YW6FWk",
        "outputId": "faeda0fa-905d-42e5-f122-e5276fb353c5"
      },
      "execution_count": 3,
      "outputs": [
        {
          "output_type": "stream",
          "name": "stdout",
          "text": [
            "Bem-vindo ao Gerador de Senhas!\n",
            "Digite o comprimento da senha desejada: 12\n",
            "Incluir dígitos? (s/n): s\n",
            "Incluir letras? (s/n): s\n",
            "Incluir caracteres especiais? (s/n): s\n",
            "\n",
            "Senha gerada: |q*&Ad-a7rxm\n"
          ]
        }
      ]
    }
  ]
}