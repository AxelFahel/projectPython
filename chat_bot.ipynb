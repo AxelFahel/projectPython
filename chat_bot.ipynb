{
  "nbformat": 4,
  "nbformat_minor": 0,
  "metadata": {
    "colab": {
      "provenance": []
    },
    "kernelspec": {
      "name": "python3",
      "display_name": "Python 3"
    },
    "language_info": {
      "name": "python"
    }
  },
  "cells": [
    {
      "cell_type": "code",
      "execution_count": 1,
      "metadata": {
        "colab": {
          "base_uri": "https://localhost:8080/"
        },
        "id": "HXbL2UHFySGz",
        "outputId": "5f2dbcaf-1514-4801-d6fc-654fbafe0bc1"
      },
      "outputs": [
        {
          "output_type": "stream",
          "name": "stdout",
          "text": [
            "Requirement already satisfied: nltk in /usr/local/lib/python3.10/dist-packages (3.8.1)\n",
            "Requirement already satisfied: click in /usr/local/lib/python3.10/dist-packages (from nltk) (8.1.7)\n",
            "Requirement already satisfied: joblib in /usr/local/lib/python3.10/dist-packages (from nltk) (1.3.2)\n",
            "Requirement already satisfied: regex>=2021.8.3 in /usr/local/lib/python3.10/dist-packages (from nltk) (2023.6.3)\n",
            "Requirement already satisfied: tqdm in /usr/local/lib/python3.10/dist-packages (from nltk) (4.66.1)\n"
          ]
        }
      ],
      "source": [
        "pip install nltk"
      ]
    },
    {
      "cell_type": "code",
      "source": [
        "import nltk\n",
        "from nltk.chat.util import Chat, reflections"
      ],
      "metadata": {
        "id": "EWn2NVanyXlG"
      },
      "execution_count": 2,
      "outputs": []
    },
    {
      "cell_type": "code",
      "source": [
        "pares = [\n",
        "    (\n",
        "        r\"Oi|Olá|E aí\",\n",
        "        [\"Olá! Como posso ajudar?\", \"Oi! Qual é a sua pergunta?\"]\n",
        "    ),\n",
        "    (\n",
        "        r\"Qual é o seu nome?\",\n",
        "        [\"Meu nome é Chatbot. Como posso ajudar você?\",]\n",
        "    ),\n",
        "    (\n",
        "        r\"Qual é o seu objetivo?\",\n",
        "        [\"Meu objetivo é ajudar e fornecer informações. Como posso ajudar você hoje?\"]\n",
        "    ),\n",
        "    # Adicione mais pares de pergunta e resposta conforme necessário\n",
        "]"
      ],
      "metadata": {
        "id": "hDNg1yH6yiWX"
      },
      "execution_count": 3,
      "outputs": []
    },
    {
      "cell_type": "code",
      "source": [
        "chatbot = Chat(pares, reflections)"
      ],
      "metadata": {
        "id": "2_BWrjiKymAf"
      },
      "execution_count": 6,
      "outputs": []
    },
    {
      "cell_type": "code",
      "source": [
        "print(\"Bem-vindo ao Chatbot! Digite 'sair' para encerrar.\")\n",
        "while True:\n",
        "    user_input = input(\"Você: \")\n",
        "    if user_input.lower() == 'sair':\n",
        "        print(\"Chatbot: Até mais!\")\n",
        "        break\n",
        "    else:\n",
        "        response = chatbot.respond(user_input)\n",
        "        print(\"Chatbot:\", response)"
      ],
      "metadata": {
        "colab": {
          "base_uri": "https://localhost:8080/"
        },
        "id": "cNCRAg2Ryo6m",
        "outputId": "6215532a-2237-4a39-ea1d-a79f32b0d506"
      },
      "execution_count": 7,
      "outputs": [
        {
          "output_type": "stream",
          "name": "stdout",
          "text": [
            "Bem-vindo ao Chatbot! Digite 'sair' para encerrar.\n",
            "Você: ola\n",
            "Chatbot: None\n",
            "Você: Erik\n",
            "Chatbot: None\n",
            "Você: obrigado\n",
            "Chatbot: None\n",
            "Você: oi\n",
            "Chatbot: Olá! Como posso ajudar?\n",
            "Você: qual a internet\n",
            "Chatbot: None\n",
            "Você: oi\n",
            "Chatbot: Olá! Como posso ajudar?\n",
            "Você: qual a sua pergunta\n",
            "Chatbot: None\n",
            "Você: qual o seu nome\n",
            "Chatbot: None\n",
            "Você: qual o seu nome?\n",
            "Chatbot: None\n",
            "Você: qual é o seu nome?\n",
            "Chatbot: Meu nome é Chatbot. Como posso ajudar você?\n",
            "Você: qual o seu objetivo?\n",
            "Chatbot: None\n",
            "Você: qual é o seu objetivo?\n",
            "Chatbot: Meu objetivo é ajudar e fornecer informações. Como posso ajudar você hoje?\n",
            "Você: sair\n",
            "Chatbot: Até mais!\n"
          ]
        }
      ]
    }
  ]
}